{
 "cells": [
  {
   "cell_type": "code",
   "execution_count": 1,
   "metadata": {},
   "outputs": [],
   "source": [
    "import matplotlib.pyplot as plt\n",
    "import numpy as np\n",
    "import pandas as pd\n",
    "import os"
   ]
  },
  {
   "cell_type": "code",
   "execution_count": 2,
   "metadata": {},
   "outputs": [
    {
     "name": "stderr",
     "output_type": "stream",
     "text": [
      "C:\\Users\\Owner\\Anaconda3\\lib\\site-packages\\IPython\\core\\interactiveshell.py:3057: DtypeWarning: Columns (1,2,12) have mixed types. Specify dtype option on import or set low_memory=False.\n",
      "  interactivity=interactivity, compiler=compiler, result=result)\n",
      "C:\\Users\\Owner\\Anaconda3\\lib\\site-packages\\IPython\\core\\interactiveshell.py:3057: DtypeWarning: Columns (1,2,5,12) have mixed types. Specify dtype option on import or set low_memory=False.\n",
      "  interactivity=interactivity, compiler=compiler, result=result)\n"
     ]
    }
   ],
   "source": [
    "file_2015 = \"Data/NCDB_2015.csv\"\n",
    "file_2016 = \"Data/NCDB_2016.csv\"\n",
    "file_2017 = \"Data/NCDB_2017.csv\"\n",
    "\n",
    "df_2015 = pd.read_csv(file_2015)\n",
    "df_2016 = pd.read_csv(file_2016)\n",
    "df_2017 = pd.read_csv(file_2017)"
   ]
  },
  {
   "cell_type": "code",
   "execution_count": 3,
   "metadata": {},
   "outputs": [],
   "source": [
    "df_ncdb_2015_2016 = pd.concat([df_2015,df_2016])"
   ]
  },
  {
   "cell_type": "code",
   "execution_count": 4,
   "metadata": {},
   "outputs": [],
   "source": [
    "df_ncdb = pd.concat([df_ncdb_2015_2016, df_2017])"
   ]
  },
  {
   "cell_type": "code",
   "execution_count": 5,
   "metadata": {},
   "outputs": [
    {
     "data": {
      "text/html": [
       "<div>\n",
       "<style scoped>\n",
       "    .dataframe tbody tr th:only-of-type {\n",
       "        vertical-align: middle;\n",
       "    }\n",
       "\n",
       "    .dataframe tbody tr th {\n",
       "        vertical-align: top;\n",
       "    }\n",
       "\n",
       "    .dataframe thead th {\n",
       "        text-align: right;\n",
       "    }\n",
       "</style>\n",
       "<table border=\"1\" class=\"dataframe\">\n",
       "  <thead>\n",
       "    <tr style=\"text-align: right;\">\n",
       "      <th></th>\n",
       "      <th>C_YEAR</th>\n",
       "      <th>C_MNTH</th>\n",
       "      <th>C_WDAY</th>\n",
       "      <th>C_HOUR</th>\n",
       "      <th>C_SEV</th>\n",
       "      <th>C_VEHS</th>\n",
       "      <th>C_CONF</th>\n",
       "      <th>C_RCFG</th>\n",
       "      <th>C_WTHR</th>\n",
       "      <th>C_RSUR</th>\n",
       "      <th>...</th>\n",
       "      <th>V_TYPE</th>\n",
       "      <th>V_YEAR</th>\n",
       "      <th>P_ID</th>\n",
       "      <th>P_SEX</th>\n",
       "      <th>P_AGE</th>\n",
       "      <th>P_PSN</th>\n",
       "      <th>P_ISEV</th>\n",
       "      <th>P_SAFE</th>\n",
       "      <th>P_USER</th>\n",
       "      <th>C_CASE</th>\n",
       "    </tr>\n",
       "  </thead>\n",
       "  <tbody>\n",
       "    <tr>\n",
       "      <th>0</th>\n",
       "      <td>2015</td>\n",
       "      <td>1</td>\n",
       "      <td>1</td>\n",
       "      <td>16</td>\n",
       "      <td>2</td>\n",
       "      <td>1</td>\n",
       "      <td>04</td>\n",
       "      <td>01</td>\n",
       "      <td>2</td>\n",
       "      <td>4</td>\n",
       "      <td>...</td>\n",
       "      <td>01</td>\n",
       "      <td>2009</td>\n",
       "      <td>UU</td>\n",
       "      <td>U</td>\n",
       "      <td>UU</td>\n",
       "      <td>UU</td>\n",
       "      <td>U</td>\n",
       "      <td>UU</td>\n",
       "      <td>U</td>\n",
       "      <td>2218030</td>\n",
       "    </tr>\n",
       "    <tr>\n",
       "      <th>1</th>\n",
       "      <td>2015</td>\n",
       "      <td>1</td>\n",
       "      <td>1</td>\n",
       "      <td>16</td>\n",
       "      <td>2</td>\n",
       "      <td>1</td>\n",
       "      <td>04</td>\n",
       "      <td>01</td>\n",
       "      <td>2</td>\n",
       "      <td>4</td>\n",
       "      <td>...</td>\n",
       "      <td>01</td>\n",
       "      <td>2009</td>\n",
       "      <td>01</td>\n",
       "      <td>F</td>\n",
       "      <td>64</td>\n",
       "      <td>QQ</td>\n",
       "      <td>2</td>\n",
       "      <td>02</td>\n",
       "      <td>U</td>\n",
       "      <td>2218030</td>\n",
       "    </tr>\n",
       "    <tr>\n",
       "      <th>2</th>\n",
       "      <td>2015</td>\n",
       "      <td>1</td>\n",
       "      <td>1</td>\n",
       "      <td>07</td>\n",
       "      <td>2</td>\n",
       "      <td>2</td>\n",
       "      <td>31</td>\n",
       "      <td>02</td>\n",
       "      <td>4</td>\n",
       "      <td>3</td>\n",
       "      <td>...</td>\n",
       "      <td>01</td>\n",
       "      <td>2014</td>\n",
       "      <td>UU</td>\n",
       "      <td>U</td>\n",
       "      <td>UU</td>\n",
       "      <td>UU</td>\n",
       "      <td>U</td>\n",
       "      <td>UU</td>\n",
       "      <td>U</td>\n",
       "      <td>2218034</td>\n",
       "    </tr>\n",
       "    <tr>\n",
       "      <th>3</th>\n",
       "      <td>2015</td>\n",
       "      <td>1</td>\n",
       "      <td>1</td>\n",
       "      <td>07</td>\n",
       "      <td>2</td>\n",
       "      <td>2</td>\n",
       "      <td>31</td>\n",
       "      <td>02</td>\n",
       "      <td>4</td>\n",
       "      <td>3</td>\n",
       "      <td>...</td>\n",
       "      <td>01</td>\n",
       "      <td>2014</td>\n",
       "      <td>01</td>\n",
       "      <td>M</td>\n",
       "      <td>27</td>\n",
       "      <td>QQ</td>\n",
       "      <td>2</td>\n",
       "      <td>02</td>\n",
       "      <td>U</td>\n",
       "      <td>2218034</td>\n",
       "    </tr>\n",
       "    <tr>\n",
       "      <th>4</th>\n",
       "      <td>2015</td>\n",
       "      <td>1</td>\n",
       "      <td>1</td>\n",
       "      <td>07</td>\n",
       "      <td>2</td>\n",
       "      <td>2</td>\n",
       "      <td>31</td>\n",
       "      <td>02</td>\n",
       "      <td>4</td>\n",
       "      <td>3</td>\n",
       "      <td>...</td>\n",
       "      <td>01</td>\n",
       "      <td>2014</td>\n",
       "      <td>02</td>\n",
       "      <td>M</td>\n",
       "      <td>37</td>\n",
       "      <td>13</td>\n",
       "      <td>2</td>\n",
       "      <td>02</td>\n",
       "      <td>2</td>\n",
       "      <td>2218034</td>\n",
       "    </tr>\n",
       "  </tbody>\n",
       "</table>\n",
       "<p>5 rows × 23 columns</p>\n",
       "</div>"
      ],
      "text/plain": [
       "   C_YEAR C_MNTH C_WDAY C_HOUR  C_SEV C_VEHS C_CONF C_RCFG C_WTHR C_RSUR  ...  \\\n",
       "0    2015      1      1     16      2      1     04     01      2      4  ...   \n",
       "1    2015      1      1     16      2      1     04     01      2      4  ...   \n",
       "2    2015      1      1     07      2      2     31     02      4      3  ...   \n",
       "3    2015      1      1     07      2      2     31     02      4      3  ...   \n",
       "4    2015      1      1     07      2      2     31     02      4      3  ...   \n",
       "\n",
       "  V_TYPE V_YEAR P_ID P_SEX P_AGE P_PSN P_ISEV P_SAFE P_USER   C_CASE  \n",
       "0     01   2009   UU     U    UU    UU      U     UU      U  2218030  \n",
       "1     01   2009   01     F    64    QQ      2     02      U  2218030  \n",
       "2     01   2014   UU     U    UU    UU      U     UU      U  2218034  \n",
       "3     01   2014   01     M    27    QQ      2     02      U  2218034  \n",
       "4     01   2014   02     M    37    13      2     02      2  2218034  \n",
       "\n",
       "[5 rows x 23 columns]"
      ]
     },
     "execution_count": 5,
     "metadata": {},
     "output_type": "execute_result"
    }
   ],
   "source": [
    "df_ncdb.head()"
   ]
  },
  {
   "cell_type": "code",
   "execution_count": 6,
   "metadata": {},
   "outputs": [
    {
     "data": {
      "text/plain": [
       "C_YEAR     int64\n",
       "C_MNTH    object\n",
       "C_WDAY    object\n",
       "C_HOUR    object\n",
       "C_SEV      int64\n",
       "C_VEHS    object\n",
       "C_CONF    object\n",
       "C_RCFG    object\n",
       "C_WTHR    object\n",
       "C_RSUR    object\n",
       "C_RALN    object\n",
       "C_TRAF    object\n",
       "V_ID      object\n",
       "V_TYPE    object\n",
       "V_YEAR    object\n",
       "P_ID      object\n",
       "P_SEX     object\n",
       "P_AGE     object\n",
       "P_PSN     object\n",
       "P_ISEV    object\n",
       "P_SAFE    object\n",
       "P_USER    object\n",
       "C_CASE     int64\n",
       "dtype: object"
      ]
     },
     "execution_count": 6,
     "metadata": {},
     "output_type": "execute_result"
    }
   ],
   "source": [
    "df_ncdb.dtypes"
   ]
  },
  {
   "cell_type": "code",
   "execution_count": 7,
   "metadata": {},
   "outputs": [],
   "source": [
    "df_without_uu = df_ncdb[df_ncdb['C_MNTH']!='UU']"
   ]
  },
  {
   "cell_type": "code",
   "execution_count": 8,
   "metadata": {},
   "outputs": [
    {
     "data": {
      "text/html": [
       "<div>\n",
       "<style scoped>\n",
       "    .dataframe tbody tr th:only-of-type {\n",
       "        vertical-align: middle;\n",
       "    }\n",
       "\n",
       "    .dataframe tbody tr th {\n",
       "        vertical-align: top;\n",
       "    }\n",
       "\n",
       "    .dataframe thead th {\n",
       "        text-align: right;\n",
       "    }\n",
       "</style>\n",
       "<table border=\"1\" class=\"dataframe\">\n",
       "  <thead>\n",
       "    <tr style=\"text-align: right;\">\n",
       "      <th></th>\n",
       "      <th>C_YEAR</th>\n",
       "      <th>C_MNTH</th>\n",
       "      <th>C_WDAY</th>\n",
       "      <th>C_HOUR</th>\n",
       "      <th>C_SEV</th>\n",
       "      <th>C_VEHS</th>\n",
       "      <th>C_CONF</th>\n",
       "      <th>C_RCFG</th>\n",
       "      <th>C_WTHR</th>\n",
       "      <th>C_RSUR</th>\n",
       "      <th>...</th>\n",
       "      <th>V_TYPE</th>\n",
       "      <th>V_YEAR</th>\n",
       "      <th>P_ID</th>\n",
       "      <th>P_SEX</th>\n",
       "      <th>P_AGE</th>\n",
       "      <th>P_PSN</th>\n",
       "      <th>P_ISEV</th>\n",
       "      <th>P_SAFE</th>\n",
       "      <th>P_USER</th>\n",
       "      <th>C_CASE</th>\n",
       "    </tr>\n",
       "  </thead>\n",
       "  <tbody>\n",
       "    <tr>\n",
       "      <th>0</th>\n",
       "      <td>2015</td>\n",
       "      <td>1</td>\n",
       "      <td>1</td>\n",
       "      <td>16</td>\n",
       "      <td>2</td>\n",
       "      <td>1</td>\n",
       "      <td>04</td>\n",
       "      <td>01</td>\n",
       "      <td>2</td>\n",
       "      <td>4</td>\n",
       "      <td>...</td>\n",
       "      <td>01</td>\n",
       "      <td>2009</td>\n",
       "      <td>UU</td>\n",
       "      <td>U</td>\n",
       "      <td>UU</td>\n",
       "      <td>UU</td>\n",
       "      <td>U</td>\n",
       "      <td>UU</td>\n",
       "      <td>U</td>\n",
       "      <td>2218030</td>\n",
       "    </tr>\n",
       "    <tr>\n",
       "      <th>1</th>\n",
       "      <td>2015</td>\n",
       "      <td>1</td>\n",
       "      <td>1</td>\n",
       "      <td>16</td>\n",
       "      <td>2</td>\n",
       "      <td>1</td>\n",
       "      <td>04</td>\n",
       "      <td>01</td>\n",
       "      <td>2</td>\n",
       "      <td>4</td>\n",
       "      <td>...</td>\n",
       "      <td>01</td>\n",
       "      <td>2009</td>\n",
       "      <td>01</td>\n",
       "      <td>F</td>\n",
       "      <td>64</td>\n",
       "      <td>QQ</td>\n",
       "      <td>2</td>\n",
       "      <td>02</td>\n",
       "      <td>U</td>\n",
       "      <td>2218030</td>\n",
       "    </tr>\n",
       "    <tr>\n",
       "      <th>2</th>\n",
       "      <td>2015</td>\n",
       "      <td>1</td>\n",
       "      <td>1</td>\n",
       "      <td>07</td>\n",
       "      <td>2</td>\n",
       "      <td>2</td>\n",
       "      <td>31</td>\n",
       "      <td>02</td>\n",
       "      <td>4</td>\n",
       "      <td>3</td>\n",
       "      <td>...</td>\n",
       "      <td>01</td>\n",
       "      <td>2014</td>\n",
       "      <td>UU</td>\n",
       "      <td>U</td>\n",
       "      <td>UU</td>\n",
       "      <td>UU</td>\n",
       "      <td>U</td>\n",
       "      <td>UU</td>\n",
       "      <td>U</td>\n",
       "      <td>2218034</td>\n",
       "    </tr>\n",
       "    <tr>\n",
       "      <th>3</th>\n",
       "      <td>2015</td>\n",
       "      <td>1</td>\n",
       "      <td>1</td>\n",
       "      <td>07</td>\n",
       "      <td>2</td>\n",
       "      <td>2</td>\n",
       "      <td>31</td>\n",
       "      <td>02</td>\n",
       "      <td>4</td>\n",
       "      <td>3</td>\n",
       "      <td>...</td>\n",
       "      <td>01</td>\n",
       "      <td>2014</td>\n",
       "      <td>01</td>\n",
       "      <td>M</td>\n",
       "      <td>27</td>\n",
       "      <td>QQ</td>\n",
       "      <td>2</td>\n",
       "      <td>02</td>\n",
       "      <td>U</td>\n",
       "      <td>2218034</td>\n",
       "    </tr>\n",
       "    <tr>\n",
       "      <th>4</th>\n",
       "      <td>2015</td>\n",
       "      <td>1</td>\n",
       "      <td>1</td>\n",
       "      <td>07</td>\n",
       "      <td>2</td>\n",
       "      <td>2</td>\n",
       "      <td>31</td>\n",
       "      <td>02</td>\n",
       "      <td>4</td>\n",
       "      <td>3</td>\n",
       "      <td>...</td>\n",
       "      <td>01</td>\n",
       "      <td>2014</td>\n",
       "      <td>02</td>\n",
       "      <td>M</td>\n",
       "      <td>37</td>\n",
       "      <td>13</td>\n",
       "      <td>2</td>\n",
       "      <td>02</td>\n",
       "      <td>2</td>\n",
       "      <td>2218034</td>\n",
       "    </tr>\n",
       "  </tbody>\n",
       "</table>\n",
       "<p>5 rows × 23 columns</p>\n",
       "</div>"
      ],
      "text/plain": [
       "   C_YEAR C_MNTH C_WDAY C_HOUR  C_SEV C_VEHS C_CONF C_RCFG C_WTHR C_RSUR  ...  \\\n",
       "0    2015      1      1     16      2      1     04     01      2      4  ...   \n",
       "1    2015      1      1     16      2      1     04     01      2      4  ...   \n",
       "2    2015      1      1     07      2      2     31     02      4      3  ...   \n",
       "3    2015      1      1     07      2      2     31     02      4      3  ...   \n",
       "4    2015      1      1     07      2      2     31     02      4      3  ...   \n",
       "\n",
       "  V_TYPE V_YEAR P_ID P_SEX P_AGE P_PSN P_ISEV P_SAFE P_USER   C_CASE  \n",
       "0     01   2009   UU     U    UU    UU      U     UU      U  2218030  \n",
       "1     01   2009   01     F    64    QQ      2     02      U  2218030  \n",
       "2     01   2014   UU     U    UU    UU      U     UU      U  2218034  \n",
       "3     01   2014   01     M    27    QQ      2     02      U  2218034  \n",
       "4     01   2014   02     M    37    13      2     02      2  2218034  \n",
       "\n",
       "[5 rows x 23 columns]"
      ]
     },
     "execution_count": 8,
     "metadata": {},
     "output_type": "execute_result"
    }
   ],
   "source": [
    "df_without_uu.head()"
   ]
  },
  {
   "cell_type": "code",
   "execution_count": 9,
   "metadata": {},
   "outputs": [
    {
     "name": "stderr",
     "output_type": "stream",
     "text": [
      "C:\\Users\\Owner\\Anaconda3\\lib\\site-packages\\ipykernel_launcher.py:1: SettingWithCopyWarning: \n",
      "A value is trying to be set on a copy of a slice from a DataFrame.\n",
      "Try using .loc[row_indexer,col_indexer] = value instead\n",
      "\n",
      "See the caveats in the documentation: http://pandas.pydata.org/pandas-docs/stable/indexing.html#indexing-view-versus-copy\n",
      "  \"\"\"Entry point for launching an IPython kernel.\n"
     ]
    }
   ],
   "source": [
    "df_without_uu['C_MNTH'] = df_without_uu['C_MNTH'].astype(str).astype(int)"
   ]
  },
  {
   "cell_type": "code",
   "execution_count": 10,
   "metadata": {},
   "outputs": [
    {
     "data": {
      "text/plain": [
       "C_YEAR     int64\n",
       "C_MNTH     int32\n",
       "C_WDAY    object\n",
       "C_HOUR    object\n",
       "C_SEV      int64\n",
       "C_VEHS    object\n",
       "C_CONF    object\n",
       "C_RCFG    object\n",
       "C_WTHR    object\n",
       "C_RSUR    object\n",
       "C_RALN    object\n",
       "C_TRAF    object\n",
       "V_ID      object\n",
       "V_TYPE    object\n",
       "V_YEAR    object\n",
       "P_ID      object\n",
       "P_SEX     object\n",
       "P_AGE     object\n",
       "P_PSN     object\n",
       "P_ISEV    object\n",
       "P_SAFE    object\n",
       "P_USER    object\n",
       "C_CASE     int64\n",
       "dtype: object"
      ]
     },
     "execution_count": 10,
     "metadata": {},
     "output_type": "execute_result"
    }
   ],
   "source": [
    "df_without_uu.dtypes"
   ]
  },
  {
   "cell_type": "code",
   "execution_count": 11,
   "metadata": {},
   "outputs": [
    {
     "data": {
      "text/plain": [
       "C_YEAR  C_MNTH\n",
       "2015    1         10740\n",
       "        2          9783\n",
       "        3          7840\n",
       "        4          7445\n",
       "        5          9468\n",
       "        6         10199\n",
       "        7         10739\n",
       "        8         10379\n",
       "        9         10372\n",
       "        10        10523\n",
       "        11        10382\n",
       "        12        10178\n",
       "2016    1          9896\n",
       "        2          8831\n",
       "        3          7959\n",
       "        4          8056\n",
       "        5          9611\n",
       "        6         10579\n",
       "        7         10522\n",
       "        8         10646\n",
       "        9         10557\n",
       "        10        10359\n",
       "        11        10472\n",
       "        12        10702\n",
       "2017    1          9005\n",
       "        2          8017\n",
       "        3          8064\n",
       "        4          7552\n",
       "        5          9301\n",
       "        6         10182\n",
       "        7         10301\n",
       "        8         10135\n",
       "        9         10314\n",
       "        10        10277\n",
       "        11        10549\n",
       "        12        10709\n",
       "Name: C_CASE, dtype: int64"
      ]
     },
     "execution_count": 11,
     "metadata": {},
     "output_type": "execute_result"
    }
   ],
   "source": [
    "df_without_uu.groupby(['C_YEAR', 'C_MNTH']).nunique()['C_CASE']"
   ]
  },
  {
   "cell_type": "code",
   "execution_count": 66,
   "metadata": {},
   "outputs": [
    {
     "data": {
      "text/plain": [
       "(100000, 120000)"
      ]
     },
     "execution_count": 66,
     "metadata": {},
     "output_type": "execute_result"
    },
    {
     "data": {
      "image/png": "[encoded data removed]",
      "text/plain": [
       "<Figure size 432x288 with 1 Axes>"
      ]
     },
     "metadata": {
      "needs_background": "light"
     },
     "output_type": "display_data"
    }
   ],
   "source": [
    "\n",
    "df_without_uu.groupby(['C_YEAR']).nunique()['C_CASE'].plot(kind = 'bar', color=['b','g','r'])\n",
    "plt.title(\"Collisions From 2015 - 2017\")\n",
    "plt.xlabel(\"Year\")\n",
    "plt.ylabel(\"Number of Collisions\")\n",
    "plt.ylim(100000, 120000)\n",
    "plt.savefig('Collisions By Year.png')"
   ]
  },
  {
   "cell_type": "code",
   "execution_count": 13,
   "metadata": {},
   "outputs": [
    {
     "data": {
      "text/plain": [
       "Text(0, 0.5, 'Number of Collisions')"
      ]
     },
     "execution_count": 13,
     "metadata": {},
     "output_type": "execute_result"
    },
    {
     "data": {
      "image/png": "[encoded data removed]",
      "text/plain": [
       "<Figure size 1728x720 with 1 Axes>"
      ]
     },
     "metadata": {
      "needs_background": "light"
     },
     "output_type": "display_data"
    }
   ],
   "source": [
    "x_axis= np.arange(len(df_without_uu))\n",
    "tick_locations= [value for value in x_axis]\n",
    "plt.figure(figsize=(24,10))\n",
    "df_without_uu.groupby(['C_YEAR', 'C_MNTH']).nunique()['C_CASE'].plot(kind='bar', color=['b','b','b','b','b','b','b','b','b','b','b','b',\n",
    "         'g','g','g','g','g','g','g','g','g','g','g','g',\n",
    "         'r','r','r','r','r','r','r','r','r','r','r','r'])\n",
    "# Set a Title and labels\n",
    "plt.title(\"Collisions per month from 2015 - 2017\")\n",
    "plt.xlabel(\"Year and Month\")\n",
    "plt.ylabel(\"Number of Collisions\")\n",
    "plt.savefig('Collisions By Year and Month.png')\n"
   ]
  },
  {
   "cell_type": "code",
   "execution_count": 15,
   "metadata": {},
   "outputs": [
    {
     "data": {
      "text/plain": [
       "Text(0, 0.5, 'Number of Collisions')"
      ]
     },
     "execution_count": 15,
     "metadata": {},
     "output_type": "execute_result"
    },
    {
     "data": {
      "image/png": "[encoded data removed]",
      "text/plain": [
       "<Figure size 432x288 with 1 Axes>"
      ]
     },
     "metadata": {
      "needs_background": "light"
     },
     "output_type": "display_data"
    }
   ],
   "source": [
    "df_without_uu.groupby(['C_WTHR']).nunique()['C_CASE'].plot(kind = 'bar')\n",
    "weather_conditions = ['Clear and sunny','Overcast, cloudy but no precipitation','Raining',\n",
    "                      'Snowing, not including drifting snow','Freezing rain, sleet, hail',\n",
    "                      'Visibility limitation','Strong wind','Other','Unknown']\n",
    "x_axis= np.arange(len(weather_conditions))\n",
    "tick_locations= [value for value in x_axis]\n",
    "plt.xticks(tick_locations, weather_conditions)\n",
    "plt.title(\"Collisions By Weather Conditions\")\n",
    "plt.xlabel(\"Weather Conditions\")\n",
    "plt.ylabel(\"Number of Collisions\")\n",
    "plt.savefig('Collisions By Weather Conditions.png')"
   ]
  },
  {
   "cell_type": "code",
   "execution_count": 18,
   "metadata": {},
   "outputs": [
    {
     "data": {
      "text/plain": [
       "Text(0, 0.5, 'Number of Collisions')"
      ]
     },
     "execution_count": 18,
     "metadata": {},
     "output_type": "execute_result"
    },
    {
     "data": {
      "image/png": "[encoded data removed]",
      "text/plain": [
       "<Figure size 432x288 with 1 Axes>"
      ]
     },
     "metadata": {
      "needs_background": "light"
     },
     "output_type": "display_data"
    }
   ],
   "source": [
    "df_without_uu.groupby(['C_RSUR']).nunique()['C_CASE'].plot(kind = 'bar')\n",
    "rsur_labels = ['Dry, normal','Wet','Snow','Slush ,wet snow','Icy',\n",
    "   'Sand/gravel/dirt', 'Muddy', 'Oil', 'Flooded', 'Other', 'Unknown']\n",
    "x_axis= np.arange(len(rsur_labels))\n",
    "tick_locations= [value for value in x_axis]\n",
    "plt.xticks(tick_locations, rsur_labels)\n",
    "plt.title(\"Collisions By Road Surface\")\n",
    "plt.xlabel(\"Road Surface\")\n",
    "plt.ylabel(\"Number of Collisions\")\n",
    "plt.savefig('Collisions By Road Surface.png')"
   ]
  },
  {
   "cell_type": "code",
   "execution_count": 21,
   "metadata": {},
   "outputs": [
    {
     "data": {
      "text/html": [
       "<div>\n",
       "<style scoped>\n",
       "    .dataframe tbody tr th:only-of-type {\n",
       "        vertical-align: middle;\n",
       "    }\n",
       "\n",
       "    .dataframe tbody tr th {\n",
       "        vertical-align: top;\n",
       "    }\n",
       "\n",
       "    .dataframe thead th {\n",
       "        text-align: right;\n",
       "    }\n",
       "</style>\n",
       "<table border=\"1\" class=\"dataframe\">\n",
       "  <thead>\n",
       "    <tr style=\"text-align: right;\">\n",
       "      <th></th>\n",
       "      <th>C_YEAR</th>\n",
       "      <th>C_MNTH</th>\n",
       "      <th>C_WDAY</th>\n",
       "      <th>C_HOUR</th>\n",
       "      <th>C_SEV</th>\n",
       "      <th>C_VEHS</th>\n",
       "      <th>C_CONF</th>\n",
       "      <th>C_RCFG</th>\n",
       "      <th>C_WTHR</th>\n",
       "      <th>C_RSUR</th>\n",
       "      <th>...</th>\n",
       "      <th>V_TYPE</th>\n",
       "      <th>V_YEAR</th>\n",
       "      <th>P_ID</th>\n",
       "      <th>P_SEX</th>\n",
       "      <th>P_AGE</th>\n",
       "      <th>P_PSN</th>\n",
       "      <th>P_ISEV</th>\n",
       "      <th>P_SAFE</th>\n",
       "      <th>P_USER</th>\n",
       "      <th>C_CASE</th>\n",
       "    </tr>\n",
       "  </thead>\n",
       "  <tbody>\n",
       "    <tr>\n",
       "      <th>7</th>\n",
       "      <td>2015</td>\n",
       "      <td>1</td>\n",
       "      <td>1</td>\n",
       "      <td>16</td>\n",
       "      <td>2</td>\n",
       "      <td>2</td>\n",
       "      <td>04</td>\n",
       "      <td>01</td>\n",
       "      <td>4</td>\n",
       "      <td>3</td>\n",
       "      <td>...</td>\n",
       "      <td>01</td>\n",
       "      <td>2000</td>\n",
       "      <td>01</td>\n",
       "      <td>M</td>\n",
       "      <td>35</td>\n",
       "      <td>11</td>\n",
       "      <td>2</td>\n",
       "      <td>02</td>\n",
       "      <td>1</td>\n",
       "      <td>2218037</td>\n",
       "    </tr>\n",
       "    <tr>\n",
       "      <th>21</th>\n",
       "      <td>2015</td>\n",
       "      <td>1</td>\n",
       "      <td>1</td>\n",
       "      <td>12</td>\n",
       "      <td>2</td>\n",
       "      <td>1</td>\n",
       "      <td>02</td>\n",
       "      <td>01</td>\n",
       "      <td>1</td>\n",
       "      <td>3</td>\n",
       "      <td>...</td>\n",
       "      <td>01</td>\n",
       "      <td>2003</td>\n",
       "      <td>01</td>\n",
       "      <td>M</td>\n",
       "      <td>21</td>\n",
       "      <td>11</td>\n",
       "      <td>1</td>\n",
       "      <td>02</td>\n",
       "      <td>1</td>\n",
       "      <td>2218077</td>\n",
       "    </tr>\n",
       "    <tr>\n",
       "      <th>36</th>\n",
       "      <td>2015</td>\n",
       "      <td>1</td>\n",
       "      <td>1</td>\n",
       "      <td>06</td>\n",
       "      <td>2</td>\n",
       "      <td>2</td>\n",
       "      <td>02</td>\n",
       "      <td>02</td>\n",
       "      <td>1</td>\n",
       "      <td>1</td>\n",
       "      <td>...</td>\n",
       "      <td>01</td>\n",
       "      <td>2005</td>\n",
       "      <td>01</td>\n",
       "      <td>M</td>\n",
       "      <td>39</td>\n",
       "      <td>11</td>\n",
       "      <td>2</td>\n",
       "      <td>02</td>\n",
       "      <td>1</td>\n",
       "      <td>2220701</td>\n",
       "    </tr>\n",
       "    <tr>\n",
       "      <th>41</th>\n",
       "      <td>2015</td>\n",
       "      <td>1</td>\n",
       "      <td>1</td>\n",
       "      <td>18</td>\n",
       "      <td>2</td>\n",
       "      <td>1</td>\n",
       "      <td>03</td>\n",
       "      <td>01</td>\n",
       "      <td>6</td>\n",
       "      <td>4</td>\n",
       "      <td>...</td>\n",
       "      <td>01</td>\n",
       "      <td>2009</td>\n",
       "      <td>04</td>\n",
       "      <td>F</td>\n",
       "      <td>50</td>\n",
       "      <td>11</td>\n",
       "      <td>1</td>\n",
       "      <td>02</td>\n",
       "      <td>1</td>\n",
       "      <td>2220727</td>\n",
       "    </tr>\n",
       "    <tr>\n",
       "      <th>42</th>\n",
       "      <td>2015</td>\n",
       "      <td>1</td>\n",
       "      <td>1</td>\n",
       "      <td>08</td>\n",
       "      <td>2</td>\n",
       "      <td>1</td>\n",
       "      <td>04</td>\n",
       "      <td>01</td>\n",
       "      <td>1</td>\n",
       "      <td>5</td>\n",
       "      <td>...</td>\n",
       "      <td>01</td>\n",
       "      <td>2008</td>\n",
       "      <td>01</td>\n",
       "      <td>F</td>\n",
       "      <td>32</td>\n",
       "      <td>11</td>\n",
       "      <td>2</td>\n",
       "      <td>02</td>\n",
       "      <td>1</td>\n",
       "      <td>2220728</td>\n",
       "    </tr>\n",
       "  </tbody>\n",
       "</table>\n",
       "<p>5 rows × 23 columns</p>\n",
       "</div>"
      ],
      "text/plain": [
       "    C_YEAR  C_MNTH C_WDAY C_HOUR  C_SEV C_VEHS C_CONF C_RCFG C_WTHR C_RSUR  \\\n",
       "7     2015       1      1     16      2      2     04     01      4      3   \n",
       "21    2015       1      1     12      2      1     02     01      1      3   \n",
       "36    2015       1      1     06      2      2     02     02      1      1   \n",
       "41    2015       1      1     18      2      1     03     01      6      4   \n",
       "42    2015       1      1     08      2      1     04     01      1      5   \n",
       "\n",
       "    ... V_TYPE V_YEAR P_ID P_SEX P_AGE P_PSN P_ISEV P_SAFE P_USER   C_CASE  \n",
       "7   ...     01   2000   01     M    35    11      2     02      1  2218037  \n",
       "21  ...     01   2003   01     M    21    11      1     02      1  2218077  \n",
       "36  ...     01   2005   01     M    39    11      2     02      1  2220701  \n",
       "41  ...     01   2009   04     F    50    11      1     02      1  2220727  \n",
       "42  ...     01   2008   01     F    32    11      2     02      1  2220728  \n",
       "\n",
       "[5 rows x 23 columns]"
      ]
     },
     "execution_count": 21,
     "metadata": {},
     "output_type": "execute_result"
    }
   ],
   "source": [
    "df_without_uu_driver = df_without_uu.loc[df_without_uu['P_PSN']==\"11\",:]\n",
    "df_without_uu_driver.head()"
   ]
  },
  {
   "cell_type": "code",
   "execution_count": 24,
   "metadata": {},
   "outputs": [
    {
     "data": {
      "text/plain": [
       "Text(0, 0.5, 'Number of Drivers')"
      ]
     },
     "execution_count": 24,
     "metadata": {},
     "output_type": "execute_result"
    },
    {
     "data": {
      "image/png": "[encoded data removed]",
      "text/plain": [
       "<Figure size 432x288 with 1 Axes>"
      ]
     },
     "metadata": {
      "needs_background": "light"
     },
     "output_type": "display_data"
    }
   ],
   "source": [
    "df_without_uu.groupby(['P_SEX']).count()['C_CASE'].plot(kind = 'bar')\n",
    "\n",
    "Cis_gender_labels = ['Female','Male','N/A','Unknown']\n",
    "x_axis= np.arange(len(Cis_gender_labels))\n",
    "tick_locations= [value for value in x_axis]\n",
    "\n",
    "\n",
    "plt.xticks(tick_locations, Cis_gender_labels)\n",
    "plt.title(\"Drivers by Gender\")\n",
    "plt.xlabel(\"Gender\")\n",
    "plt.ylabel(\"Number of Drivers\")\n",
    "plt.savefig('Drivers By Gender.png')"
   ]
  },
  {
   "cell_type": "code",
   "execution_count": 69,
   "metadata": {},
   "outputs": [
    {
     "data": {
      "image/png": "[encoded data removed]",
      "text/plain": [
       "<Figure size 432x288 with 1 Axes>"
      ]
     },
     "metadata": {},
     "output_type": "display_data"
    }
   ],
   "source": [
    "gender_list = df_without_uu.groupby(['P_SEX']).count()['C_CASE'].tolist()\n",
    "\n",
    "del gender_list[2]\n",
    "\n",
    "gender_labels = ['Female','Male','Unknown']\n",
    "#gender_list_without_na = gender_list.iloc[[0,1,3],:]\n",
    "#gender_list_without_na\n",
    "\n",
    "colors = [\"Blue\", \"Green\", \"Red\"]\n",
    "plt.pie(gender_list,labels=gender_labels, colors= colors ,\n",
    "        autopct=\"%1.1f%%\", shadow=True, startangle=140)\n",
    "plt.title(\"Drivers Involved in Collisions By Gender\")\n",
    "plt.savefig('Collisions By Gender.png')"
   ]
  },
  {
   "cell_type": "code",
   "execution_count": 58,
   "metadata": {},
   "outputs": [
    {
     "data": {
      "text/plain": [
       "[387159, 466606, 53353]"
      ]
     },
     "execution_count": 58,
     "metadata": {},
     "output_type": "execute_result"
    }
   ],
   "source": [
    "del gender_list[2]\n",
    "gender_list"
   ]
  },
  {
   "cell_type": "code",
   "execution_count": 68,
   "metadata": {},
   "outputs": [
    {
     "data": {
      "text/plain": [
       "Text(0, 0.5, 'Number of Collisions')"
      ]
     },
     "execution_count": 68,
     "metadata": {},
     "output_type": "execute_result"
    },
    {
     "data": {
      "image/png": "[encoded data removed]",
      "text/plain": [
       "<Figure size 1728x720 with 1 Axes>"
      ]
     },
     "metadata": {
      "needs_background": "light"
     },
     "output_type": "display_data"
    }
   ],
   "source": [
    "\n",
    "plt.figure(figsize=(24,10))\n",
    "df_without_uu.groupby(['C_HOUR']).nunique()['C_CASE'].plot(kind='bar')\n",
    "# Set a Title and labels\n",
    "plt.title(\"Collisions By Hour\")\n",
    "plt.xlabel(\"Time\")\n",
    "plt.ylabel(\"Number of Collisions\")\n",
    "plt.savefig('Collisions By Hour.png')\n"
   ]
  },
  {
   "cell_type": "code",
   "execution_count": 73,
   "metadata": {},
   "outputs": [
    {
     "data": {
      "text/plain": [
       "([<matplotlib.axis.XTick at 0x283911fa5c0>,\n",
       "  <matplotlib.axis.XTick at 0x283911feef0>,\n",
       "  <matplotlib.axis.XTick at 0x2839121b208>,\n",
       "  <matplotlib.axis.XTick at 0x2839124d6d8>,\n",
       "  <matplotlib.axis.XTick at 0x2839124db70>,\n",
       "  <matplotlib.axis.XTick at 0x28391256160>,\n",
       "  <matplotlib.axis.XTick at 0x28391256668>,\n",
       "  <matplotlib.axis.XTick at 0x28391256be0>,\n",
       "  <matplotlib.axis.XTick at 0x2839125d198>,\n",
       "  <matplotlib.axis.XTick at 0x2839125d710>,\n",
       "  <matplotlib.axis.XTick at 0x2839125dc88>,\n",
       "  <matplotlib.axis.XTick at 0x283911fec18>,\n",
       "  <matplotlib.axis.XTick at 0x2839126ad30>,\n",
       "  <matplotlib.axis.XTick at 0x28391272518>,\n",
       "  <matplotlib.axis.XTick at 0x28391272a90>,\n",
       "  <matplotlib.axis.XTick at 0x2839126ae10>,\n",
       "  <matplotlib.axis.XTick at 0x2839121b4e0>,\n",
       "  <matplotlib.axis.XTick at 0x283912729e8>,\n",
       "  <matplotlib.axis.XTick at 0x283912791d0>,\n",
       "  <matplotlib.axis.XTick at 0x28391279748>],\n",
       " <a list of 20 Text xticklabel objects>)"
      ]
     },
     "execution_count": 73,
     "metadata": {},
     "output_type": "execute_result"
    },
    {
     "data": {
      "image/png": "[encoded data removed]",
      "text/plain": [
       "<Figure size 1728x720 with 1 Axes>"
      ]
     },
     "metadata": {
      "needs_background": "light"
     },
     "output_type": "display_data"
    }
   ],
   "source": [
    "#gender_list = df_without_uu.groupby(['P_SEX']).count()['C_CASE'].tolist()\n",
    "\n",
    "#del gender_list[2]\n",
    "\n",
    "\n",
    "plt.figure(figsize=(24,10))\n",
    "v_type_list = df_without_uu.groupby(['V_TYPE']).nunique()['C_CASE'].tolist()\n",
    "del gender_list[]\n",
    "\n",
    "v_type_labels=['Light Duty Vehicle','Panel/cargo van','Other trucks and vans','Unit trucks','Road tractor','School bus',\n",
    "            'Smaller school bus','Urban and Intercity Bus','Motorcycle and moped','Off road vehicles','Bicycle',\n",
    "            'Purpose-built motorhome','Farm equipment','Construction equipment','Fire engine','Snowmobile','Street car',\n",
    "            'N/A','Other','Unknown']\n",
    "x_axis= np.arange(len(v_type_labels))\n",
    "tick_locations= [value for value in x_axis]\n",
    "plt.xticks(tick_locations, v_type_labels)\n",
    "\n",
    "\n",
    "# Set a Title and labels\n",
    "#plt.title(\"Collisions By Hour\")\n",
    "#plt.xlabel(\"Time\")\n",
    "#plt.ylabel(\"Number of Collisions\")\n",
    "#plt.savefig('Collisions By Hour.png')\n"
   ]
  },
  {
   "cell_type": "code",
   "execution_count": 74,
   "metadata": {},
   "outputs": [
    {
     "data": {
      "text/plain": [
       "[323580,\n",
       " 6564,\n",
       " 11410,\n",
       " 10985,\n",
       " 9317,\n",
       " 1139,\n",
       " 51,\n",
       " 4135,\n",
       " 18327,\n",
       " 954,\n",
       " 18119,\n",
       " 217,\n",
       " 283,\n",
       " 1109,\n",
       " 73,\n",
       " 352,\n",
       " 251,\n",
       " 2271,\n",
       " 4189]"
      ]
     },
     "execution_count": 74,
     "metadata": {},
     "output_type": "execute_result"
    }
   ],
   "source": [
    "v_type_list = df_without_uu.groupby(['V_TYPE']).nunique()['C_CASE'].tolist()\n",
    "del v_type_list[-3]\n",
    "v_type_list"
   ]
  },
  {
   "cell_type": "code",
   "execution_count": 72,
   "metadata": {},
   "outputs": [
    {
     "data": {
      "text/plain": [
       "V_TYPE\n",
       "01    323580\n",
       "05      6564\n",
       "06     11410\n",
       "07     10985\n",
       "08      9317\n",
       "09      1139\n",
       "10        51\n",
       "11      4135\n",
       "14     18327\n",
       "16       954\n",
       "17     18119\n",
       "18       217\n",
       "19       283\n",
       "20      1109\n",
       "21        73\n",
       "22       352\n",
       "23       251\n",
       "NN     35517\n",
       "QQ      2271\n",
       "UU      4189\n",
       "Name: C_CASE, dtype: int64"
      ]
     },
     "execution_count": 72,
     "metadata": {},
     "output_type": "execute_result"
    }
   ],
   "source": [
    "df_without_uu.groupby(['V_TYPE']).nunique()['C_CASE']"
   ]
  },
  {
   "cell_type": "code",
   "execution_count": null,
   "metadata": {},
   "outputs": [],
   "source": []
  }
 ],
 "metadata": {
  "kernelspec": {
   "display_name": "Python 3",
   "language": "python",
   "name": "python3"
  },
  "language_info": {
   "codemirror_mode": {
    "name": "ipython",
    "version": 3
   },
   "file_extension": ".py",
   "mimetype": "text/x-python",
   "name": "python",
   "nbconvert_exporter": "python",
   "pygments_lexer": "ipython3",
   "version": "3.7.3"
  }
 },
 "nbformat": 4,
 "nbformat_minor": 2
}
